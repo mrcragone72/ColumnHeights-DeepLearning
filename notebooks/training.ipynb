{
 "cells": [
  {
   "cell_type": "code",
   "execution_count": 1,
   "id": "demographic-ebony",
   "metadata": {},
   "outputs": [],
   "source": [
    "import os\n",
    "if 'notebooks' in os.listdir('../'):\n",
    "    os.chdir('../')\n",
    "\n",
    "import sys\n",
    "sys.path.append('./scripts/')\n",
    "sys.path.append('./scripts/make_data_scripts/')\n",
    "\n",
    "from config import Config\n",
    "sys.path.append('./scripts/training_scripts/')\n",
    "\n",
    "from training_utils import*"
   ]
  },
  {
   "cell_type": "markdown",
   "id": "developmental-diagram",
   "metadata": {},
   "source": [
    "# 1. Create config variable"
   ]
  },
  {
   "cell_type": "code",
   "execution_count": 2,
   "id": "acoustic-forge",
   "metadata": {},
   "outputs": [],
   "source": [
    "json_path = 'json_templates/config_FeMnO_-112.json'"
   ]
  },
  {
   "cell_type": "code",
   "execution_count": 3,
   "id": "fantastic-flesh",
   "metadata": {},
   "outputs": [
    {
     "name": "stdout",
     "output_type": "stream",
     "text": [
      "Directory experiments/FeMnO_-112/json_templates/ already exists!\n",
      "Saving config_06-09-2022_22-50-16.json in experiments/FeMnO_-112/json_templates/\n"
     ]
    }
   ],
   "source": [
    "config = Config(json_path)"
   ]
  },
  {
   "cell_type": "markdown",
   "id": "active-outdoors",
   "metadata": {},
   "source": [
    "# 2. Training"
   ]
  },
  {
   "cell_type": "code",
   "execution_count": null,
   "id": "prompt-reduction",
   "metadata": {},
   "outputs": [
    {
     "name": "stdout",
     "output_type": "stream",
     "text": [
      "Running mirrored strategy model\n",
      "Running on host 'Marcos-MBP.attlocal.net'\n",
      "Running on 1 device\n",
      "Mirrored strategy is set on 1 devices!\n",
      "Directory experiments/FeMnO_-112/results/results_model-parallel/training_results/ already exists!\n",
      "Creating directory at experiments/FeMnO_-112/results/results_model-parallel/training_results/predictions/\n",
      "Directory experiments/FeMnO_-112/results/results_model-parallel/training_results/weights/ already exists!\n",
      "Creating directory at experiments/FeMnO_-112/results/results_model-parallel/training_results/learning_curves/\n",
      "Creating directory at experiments/FeMnO_-112/results/results_model-parallel/test_results/\n",
      "Creating directory at experiments/FeMnO_-112/results/results_model-parallel/test_results/predictions/\n",
      "Creating directory at experiments/FeMnO_-112/results/results_model-parallel/test_results/learning_curves/\n",
      "Training results will be saved at experiments/FeMnO_-112/results/results_model-parallel/training_results/\n",
      "Test results will be saved at experiments/FeMnO_-112/results/results_model-parallel/test_results/\n",
      "\n",
      "21 images found in experiments/FeMnO_-112/data/training_data/img_lbl/\n",
      "21 images found in experiments/FeMnO_-112/data/test_data/img_lbl/\n",
      "Training starts!\n"
     ]
    }
   ],
   "source": [
    "train_data_parallel(config)"
   ]
  },
  {
   "cell_type": "code",
   "execution_count": null,
   "id": "vanilla-adolescent",
   "metadata": {},
   "outputs": [],
   "source": []
  },
  {
   "cell_type": "code",
   "execution_count": null,
   "id": "spare-algorithm",
   "metadata": {},
   "outputs": [],
   "source": []
  },
  {
   "cell_type": "code",
   "execution_count": null,
   "id": "undefined-diagnosis",
   "metadata": {},
   "outputs": [],
   "source": []
  }
 ],
 "metadata": {
  "kernelspec": {
   "display_name": "Python 3",
   "language": "python",
   "name": "python3"
  },
  "language_info": {
   "codemirror_mode": {
    "name": "ipython",
    "version": 3
   },
   "file_extension": ".py",
   "mimetype": "text/x-python",
   "name": "python",
   "nbconvert_exporter": "python",
   "pygments_lexer": "ipython3",
   "version": "3.7.0"
  }
 },
 "nbformat": 4,
 "nbformat_minor": 5
}
